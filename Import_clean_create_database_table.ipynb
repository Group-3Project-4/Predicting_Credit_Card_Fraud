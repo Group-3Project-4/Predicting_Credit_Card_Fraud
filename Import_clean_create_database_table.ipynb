{
 "cells": [
  {
   "cell_type": "code",
   "execution_count": null,
   "metadata": {},
   "outputs": [],
   "source": [
    "# Imports\n",
    "\n",
    "import pandas as pd\n",
    "from pathlib import Path\n",
    "import psycopg2\n",
    "\n",
    "learning_data = Path('../Data_2/creditcard_2023.csv')\n",
    "\n",
    "learning_df = pd.read_csv(learning_data, encoding='utf-8')\n",
    "\n",
    "learning_df.head()"
   ]
  },
  {
   "cell_type": "code",
   "execution_count": null,
   "metadata": {},
   "outputs": [],
   "source": [
    "# Check data types\n",
    "\n",
    "learning_df.dtypes"
   ]
  },
  {
   "cell_type": "code",
   "execution_count": null,
   "metadata": {},
   "outputs": [],
   "source": [
    "# Row count\n",
    "\n",
    "num_rows = len(learning_df)\n",
    "print(\"Number of rows:\", num_rows)"
   ]
  },
  {
   "cell_type": "code",
   "execution_count": null,
   "metadata": {},
   "outputs": [],
   "source": [
    "# Cleaning\n",
    "\n",
    "# Convert non-float values to NaN\n",
    "learning_df = learning_df.apply(pd.to_numeric, errors='coerce')\n",
    "\n",
    "# Drop rows containing NaN values\n",
    "cleaned_learning_df = learning_df.dropna()\n",
    "\n",
    "# Display the resulting DataFrame\n",
    "print(cleaned_learning_df.head())"
   ]
  },
  {
   "cell_type": "code",
   "execution_count": null,
   "metadata": {},
   "outputs": [],
   "source": [
    "# Row count\n",
    "\n",
    "num_rows = len(learning_df)\n",
    "print(\"Number of rows:\", num_rows)"
   ]
  },
  {
   "cell_type": "code",
   "execution_count": null,
   "metadata": {},
   "outputs": [],
   "source": [
    "# Export cleaned data\n",
    "\n",
    "cleaned_learning_df.to_csv('../Data_2/cleaned_creditcard_2023.csv', encoding=\"utf-8\", index=False, header=True)"
   ]
  },
  {
   "cell_type": "code",
   "execution_count": null,
   "metadata": {},
   "outputs": [],
   "source": [
    "# Creating SQL database\n",
    "\n",
    "connection = psycopg2.connect(\n",
    "    host = 'localhost',\n",
    "    # dbname = 'Project_4_test',\n",
    "    user = 'postgres',\n",
    "    password = 'admin',\n",
    "    port = 5432)\n",
    "\n",
    "connection.autocommit = True\n",
    "\n",
    "# Create a cursor object\n",
    "cursor = connection.cursor()\n",
    "\n",
    "# Create the database\n",
    "cursor.execute(\"CREATE DATABASE project_4_test\")\n",
    "\n",
    "# Commit the changes and close the connection to the default database\n",
    "connection.commit()\n",
    "cursor.close()\n",
    "connection.close()"
   ]
  },
  {
   "cell_type": "code",
   "execution_count": null,
   "metadata": {},
   "outputs": [],
   "source": [
    "# Create the table\n",
    "\n",
    "# Create SQL Connection\n",
    "connection = psycopg2.connect(\n",
    "    host = 'localhost',\n",
    "    dbname = 'project_4_test',\n",
    "    user = 'postgres',\n",
    "    password = 'admin',\n",
    "    port = 5432)\n",
    "\n",
    "connection.autocommit = True\n",
    "\n",
    "# Create a cursor object\n",
    "cursor = connection.cursor()\n",
    "\n",
    "# Create the table\n",
    "create_credit_card_table = \"\"\"\n",
    "DROP TABLE IF EXISTS CreditCardTransactions;\n",
    "CREATE TABLE CreditCardTransactions (\n",
    "    id INT,\n",
    "    V1 NUMERIC,\n",
    "\tV2 NUMERIC,\n",
    "\tV3 NUMERIC,\n",
    "\tV4 NUMERIC,\n",
    "\tV5 NUMERIC,\n",
    "\tV6 NUMERIC,\n",
    "\tV7 NUMERIC,\n",
    "\tV8 NUMERIC,\n",
    "\tV9 NUMERIC,\n",
    "\tV10 NUMERIC,\n",
    "\tV11 NUMERIC,\n",
    "\tV12 NUMERIC,\n",
    "\tV13 NUMERIC,\n",
    "\tV14 NUMERIC,\n",
    "\tV15 NUMERIC,\n",
    "\tV16 NUMERIC,\n",
    "\tV17 NUMERIC,\n",
    "\tV18 NUMERIC,\n",
    "\tV19 NUMERIC,\n",
    "\tV20 NUMERIC,\n",
    "\tV21 NUMERIC,\n",
    "\tV22 NUMERIC,\n",
    "\tV23 NUMERIC,\n",
    "\tV24 NUMERIC,\n",
    "\tV25 NUMERIC,\n",
    "\tV26 NUMERIC,\n",
    "\tV27 NUMERIC,\n",
    "\tV28 NUMERIC,\n",
    "\tAmount Numeric,\n",
    "\tclass INT\n",
    ");\n",
    "\"\"\"\n",
    "\n",
    "cursor.execute(create_credit_card_table)\n",
    "\n",
    "# Commit the changes and close the connection\n",
    "cursor.close()\n",
    "connection.close()"
   ]
  },
  {
   "cell_type": "code",
   "execution_count": null,
   "metadata": {},
   "outputs": [],
   "source": []
  }
 ],
 "metadata": {
  "kernelspec": {
   "display_name": "dev",
   "language": "python",
   "name": "python3"
  },
  "language_info": {
   "codemirror_mode": {
    "name": "ipython",
    "version": 3
   },
   "file_extension": ".py",
   "mimetype": "text/x-python",
   "name": "python",
   "nbconvert_exporter": "python",
   "pygments_lexer": "ipython3",
   "version": "3.10.13"
  }
 },
 "nbformat": 4,
 "nbformat_minor": 2
}
